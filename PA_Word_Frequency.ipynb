{
 "cells": [
  {
   "cell_type": "markdown",
   "metadata": {},
   "source": [
    "## Word Frequency\n",
    "임의의 text file에 있는 word들의 빈도수를 구하려 한다. word는 대소문자 구분없고 숫자, 특수 문자들은 단어에서 배제된다.\n",
    "따라서, word들의 list를 만들기 전에 file을 읽고 난 후\n",
    "- 대문자는 소문자로 변환\n",
    "- 숫자, 특수문자는 `' '` 로 변환해야 할 것이다.\n",
    "\n",
    "#### Hint:\n",
    "주어진 text를 한 번 scan으로 효율적으로 변환해 주는 string method를 사용하면 될 것이다.\n",
    "`maketrans` method는 변환시키는 dictionary를 정의해 주고, `translate` method는 이를 가지고 변환한 새로운 string을 generate한다."
   ]
  },
  {
   "cell_type": "code",
   "execution_count": 4,
   "metadata": {
    "scrolled": false
   },
   "outputs": [
    {
     "name": "stdout",
     "output_type": "stream",
     "text": [
      " well  i never    said alice \n"
     ]
    }
   ],
   "source": [
    "the_text = '\"Well, I never!\", said Alice.'\n",
    "my_substitutions = the_text.maketrans(\n",
    "  # If you find any of these\n",
    "  \"ABCDEFGHIJKLMNOPQRSTUVWXYZ0123456789!\\\"#$%&()*+,-./:;<=>?@[]^_`{|}~'\\\\\",\n",
    "  # Replace them by these\n",
    "  \"abcdefghijklmnopqrstuvwxyz                                          \")\n",
    "\n",
    "# Translate the text now.\n",
    "cleaned_text = the_text.translate(my_substitutions)\n",
    "print(cleaned_text)"
   ]
  },
  {
   "cell_type": "markdown",
   "metadata": {},
   "source": [
    "#### Input: \n",
    "인터넷에 있는 *Alice in Wonderland* 동화책 내용을 다음과 같이 fetch한다."
   ]
  },
  {
   "cell_type": "code",
   "execution_count": 5,
   "metadata": {
    "scrolled": false
   },
   "outputs": [
    {
     "name": "stdout",
     "output_type": "stream",
     "text": [
      "\r\n",
      "ALICE'S ADVENTURES IN WONDERLAND\r\n",
      "\r\n",
      "Lewis Carroll\r\n",
      "\r\n",
      "\r\n",
      "\r\n",
      "CHAPTER I. Down the Rabbit-Hole\r\n",
      "\r\n",
      "Alice was beginning to get very tired of sitting by her sister on the\r\n",
      "bank, and of having nothing to do: once or twice she had peeped into the\r\n",
      "book her sister was reading, but it had no pictures or conversations in\r\n",
      "it, 'and what is the use of a book,' thought Alice 'without pictures or\r\n",
      "conversation?'\r\n",
      "\r\n",
      "So she was considering in her own mind (as well as she could, for the\r\n",
      "hot day made her feel very\n"
     ]
    }
   ],
   "source": [
    "import urllib\n",
    "\n",
    "url = \"http://openbookproject.net/thinkcs/python/english3e/_downloads/alice_in_wonderland.txt\" \n",
    "with urllib.request.urlopen(url) as f:\n",
    "    contents = f.read().decode()\n",
    "print(contents[:500])"
   ]
  },
  {
   "cell_type": "markdown",
   "metadata": {},
   "source": [
    "#### Q1. How many different words are used in the *Alice in Wonderland*?"
   ]
  },
  {
   "cell_type": "code",
   "execution_count": 10,
   "metadata": {
    "scrolled": false
   },
   "outputs": [
    {
     "name": "stdout",
     "output_type": "stream",
     "text": [
      "There are 2568 words are used in the Alice in Wonderland.\n"
     ]
    }
   ],
   "source": [
    "contents = contents.translate(my_substitutions)\n",
    "\n",
    "words = contents.split()\n",
    "\n",
    "dic = {'none':0} # 딕셔너리가 itmes() 호출로 인해 Q2. 에서 리스트화 되는것을 방지\n",
    "\n",
    "for i in words:\n",
    "    if i not in dic:\n",
    "        dic[i] = 1\n",
    "    if i in dic:\n",
    "        dic[i] += 1\n",
    "\n",
    "print('There are ' + str(len(dic)-1) + ' words are used in the Alice in Wonderland.') # none 키때문에 갯수에서 한개를 제외\n"
   ]
  },
  {
   "cell_type": "markdown",
   "metadata": {},
   "source": [
    "#### Q2. List top 20 frequently used words and their frequencies in the *Alice in Wonderland*."
   ]
  },
  {
   "cell_type": "code",
   "execution_count": 11,
   "metadata": {
    "scrolled": true
   },
   "outputs": [
    {
     "name": "stdout",
     "output_type": "stream",
     "text": [
      "Those are list top 20 frequently used words.\n",
      "\n",
      "('the', 1644)\n",
      "('and', 873)\n",
      "('to', 730)\n",
      "('a', 633)\n",
      "('it', 596)\n",
      "('she', 554)\n",
      "('i', 546)\n",
      "('of', 515)\n",
      "('said', 463)\n",
      "('you', 412)\n",
      "('alice', 399)\n",
      "('in', 370)\n",
      "('was', 358)\n",
      "('that', 316)\n",
      "('as', 264)\n",
      "('her', 249)\n",
      "('t', 219)\n",
      "('at', 213)\n",
      "('s', 202)\n",
      "('on', 194)\n"
     ]
    }
   ],
   "source": [
    "word_count = sorted(dic.items(), key=lambda x: x[1],reverse = True)\n",
    "\n",
    "print(\"Those are list top 20 frequently used words.\\n\")\n",
    "\n",
    "for i in word_count[:20]:\n",
    "    print(i)"
   ]
  },
  {
   "cell_type": "markdown",
   "metadata": {},
   "source": [
    "#### Q3. \n",
    "As children learn to read, there are expectations that their vocabulary will grow. So a child of age 14 is expected to know more words than a child of age 8. When prescribing reading books for a grade, an important question might be “which words in this book are not in the expected vocabulary at this level?”\n",
    "\n",
    "Find the words in the book *Alice in the Wonderland* are not in the vocabulary given in the file  http://openbookproject.net/thinkcs/python/english3e/_downloads/vocab.txt.\n",
    "\n",
    "(어린이가 수준 이상이 되는 단어들을 찾아내는 문제다. 적절한 수준의 단어들로 채워진 단어장에 없으면 적정 수준을 초과한 어려운 단어라는 의미다.)"
   ]
  },
  {
   "cell_type": "markdown",
   "metadata": {},
   "source": [
    "참고사항)\n",
    "is 와 are가 다른 단어 인거 처럼 daisy와 daisies도 다른 단어로 취급하겠습니다. 단수,복수 구분해주세요 \n",
    "\n",
    "\"'s\" 는 예외가 많습니다. (it has/ it is/ 소유격)\n",
    "- 따라서, it's 를 그냥 새로운 한 단어로 생각해서 풀어주세요.\n",
    "가령 girls' 라고 하면 이것도 새로운 한 단어라고 생각해주세요.\n",
    "- Alice랑 Alice's 각각 새로운 한단어라고 생각하시면 됩니다. 만약, there's 와 there is 가 나왔으면 전자는 1단어 후자는 2단어 입니다."
   ]
  },
  {
   "cell_type": "code",
   "execution_count": 9,
   "metadata": {
    "scrolled": true
   },
   "outputs": [
    {
     "name": "stdout",
     "output_type": "stream",
     "text": [
      "Hard words for children are\n",
      "alice, s, adventures, wonderland, lewis, carroll, having, peeped, pictures, conversations, getting, picking, daisies, eyes, occurred, ought, wondered, seemed, waistcoat, looked, started, flashed, dipped, stopping, falling, tried, sides, noticed, filled, cupboards, maps, pegs, passed, labelled, managed, tumbling, ll, wouldn, t, ve, centre, learnt, lessons, schoolroom, words, antipathies, listening, didn, ma, zealand, curtsey, curtseying, asking, talking, dinah, m, cats, bats, couldn, dozing, walking, jumped, hurrying, turned, ears, longer, lamps, doors, locked, walked, wondering, legged, locks, inches, opened, larger, loveliest, longed, beds, flowers, fountains, shoulders, happened, waiting, hoping, rules, shutting, telescopes, printed, letters, histories, beasts, friends, bleeds, sooner, ventured, flavour, buttered, brightened, waited, legs, cried, followed, scolded, tears, remembered, cheated, playing, pretending, currants, makes, smaller, don, happens, growing, remained, eats, expecting, ii, curiouser, largest, shoes, stockings, dears, shan, boots, sending, presents, esq, hearthrug, shedding, gallons, reaching, pattering, returning, dressed, gloves, trotting, muttering, dropped, skurried, fanning, changed, ada, goes, ringlets, doesn, mabel, sorts, knows, puzzling, london, paris, rome, doth, crossed, hands, sounded, shining, nile, seems, claws, fishes, smiling, toys, putting, shrinking, slipped, railway, bathing, machines, digging, houses, hadn, punished, drowned, splashing, nearer, o, speaking, inquisitively, daresay, william, ou, est, chatte, d, sits, purring, paws, bristling, offended, trembling, dogs, eyed, belongs, says, pounds, kills, rats, called, birds, animals, dodo, lory, eaglet, creatures, iii, looking, assembled, draggled, feathers, dripping, older, refused, ahem, driest, favoured, submitted, leaders, usurpation, edwin, morcar, earls, mercia, northumbria, frowning, declared, stigand, canterbury, replied, crossly, edgar, atheling, normans, turning, rising, remedies, tittered, paused, placed, liked, panting, shakespeare, prizes, voices, asked, pointing, pulled, comfits, handed, presented, cheered, bowed, caused, complained, ones, choked, patted, begged, promised, c, added, sighing, cur, wasting, attending, pleaded, growled, others, joined, quicker, sighed, snappishly, addressing, remarking, pretexts, moved, mentioned, footsteps, sends, executed, ferrets, guessed, naturedly, vanished, mary, ann, doing, housemaid, finds, w, engraved, knocking, lest, messages, fancying, ordering, hoped, pairs, uncorked, lips, expected, curled, pleasanter, wasn, ordered, rabbits, tales, fancied, shouldn, answered, stopped, trembled, forgetting, proved, concluded, apples, yer, honour, sounds, arrum, fills, whispers, shrieks, frames, pulling, rumbling, cartwheels, em, nay, scratching, scrambling, squeaking, ye, comes, barrowful, pebbles, rattling, shouted, produced, cakes, swallowed, guinea, pigs, giving, appeared, wandered, arranged, smallest, peering, trees, feebly, stretching, coaxing, picked, rushed, dodged, tumbled, trampled, charges, barking, leant, fanned, tricks, blades, stretched, folded, hookah, v, addressed, sizes, isn, chrysalis, contemptuously, irritated, remarks, swallowing, puffed, unfolded, feared, grey, limbs, shilling, tougher, suet, bones, argued, lasted, questions, altered, changing, contradicted, losing, rearing, yawned, crawled, taller, shorter, nibbled, lefthand, shaking, succeeded, curving, tops, wandering, screamed, banks, hedges, serpents, hatching, eggs, weeks, highest, raising, wriggling, changes, deepest, girls, denying, tasted, adding, matters, crouched, branches, untwist, pieces, nibbling, bringing, righthand, vi, footman, livery, considered, judging, rapped, knuckles, footmen, producing, curls, laughed, staring, knocked, reasons, howling, sneezing, uncivil, remarked, skimming, grazed, louder, muttered, repeating, variations, whistling, stirring, cauldron, sneezed, grinning, grins, cheshire, grinned, throwing, irons, saucepans, plates, dishes, blows, jumping, carried, minded, faster, takes, glanced, figures, sneezes, teases, tossing, howled, pleases, flinging, frying, missed, shaped, snorting, doubling, straightening, grunted, expressing, sobbing, sobbed, seeing, yards, natured, treated, puss, wider, depends, denied, waving, hatter, growls, wags, growling, invited, hatters, appearing, chimneys, thatched, raised, vii, dormouse, using, resting, elbows, wants, riddles, ravens, desks, crumbs, grumbled, tells, stays, poured, slightest, answers, accounts, twinkling, quarrelled, bawled, murdering, exclaimed, whiles, interrupted, yawning, pinched, fellows, sisters, names, elsie, lacie, tillie, lived, eating, treacle, helped, sulkily, consented, unwillingly, choosing, interrupting, rubbing, begins, traps, muchness, stupidest, unlocking, viii, roses, gardeners, jogged, deserved, beheaded, onions, chanced, watching, afore, faces, soldiers, carrying, corners, courtiers, ornamented, couples, guests, kings, queens, recognised, noticing, knave, processions, smiled, needn, rosetree, backs, bowing, examining, marched, roared, peeping, whispered, boxed, places, ridges, furrows, hedgehogs, mallets, flamingoes, arches, managing, tucked, straightened, hedgehog, bursting, laughing, provoking, unrolled, crawling, doubled, parts, players, played, turns, quarrelling, stamping, shouting, beheading, nodded, complaining, attends, croqueted, finishing, likes, settling, difficulties, screaming, croqueting, appealed, arguments, weren, fading, disappeared, ix, tempered, camomile, hasn, tut, squeezed, closer, tis, minding, attended, died, favourite, linked, sentenced, pardoned, executions, gryphon, leaving, rubbed, watched, chuckled, executes, pitied, hjckrrh, mayn, educations, extras, inquired, reeling, writhing, uglification, lifted, uglifying, beautify, prettier, uglify, simpleton, encouraged, counting, subjects, flappers, seaography, drawling, conger, fainting, coils, x, quadrille, flapper, sobs, punching, recovered, cheeks, introduced, seals, turtles, cleared, partners, lobsters, capering, yelled, dropping, treading, toes, forepaws, whiting, thanked, england, france, dinn, mouths, blacking, soles, eels, thoughts, explanations, gained, listeners, sluggard, baked, eyelids, trims, buttons, editions, follows, sands, tones, rises, sharks, tremulous, explained, persisted, sharing, permitted, received, hm, tastes, dainties, beau, ootiful, soo, oop, e, cares, pennyworth, beauti, ful, panted, faintly, xi, tarts, seated, arrived, chains, frontispiece, jurors, slates, neighbour, squeaked, blasts, dates, reduced, shillings, pence, fidgeted, shifting, officers, singers, twinkled, denies, suppressed, tied, newspapers, attempts, folding, shrieked, fumbled, xii, tipped, upsetting, jurymen, reminding, signifies, pencils, gazing, cackled, persons, invented, oldest, directed, verses, queerest, imitated, signed, clapping, proves, returned, trusts, sixpence, attempted, saves, spreading, clearer, fits, inkstand, trickling, brushing, fluttered, kissed, dreaming, dreamed, clasped, listened, rustled, splashed, neighbouring, teacups, shared, crashed, choking, believed, rustling, rippling, reeds, tinkling, bells, cries, noises, clamour, lowing, pictured, riper, sorrows, joys, remembering.\n"
     ]
    }
   ],
   "source": [
    "url2 = \"http://openbookproject.net/thinkcs/python/english3e/_downloads/vocab.txt\"\n",
    "with urllib.request.urlopen(url2) as f:\n",
    "    easyword = f.read().decode()\n",
    "\n",
    "easy_word = easyword.split()\n",
    "\n",
    "words2 = []\n",
    "\n",
    "for i in words: # 중복요소 제거\n",
    "    if i not in words2:\n",
    "        words2.append(i)\n",
    "\n",
    "hard_word = []\n",
    "\n",
    "for i in words2:\n",
    "    if i not in easy_word:\n",
    "        hard_word.append(i)\n",
    "\n",
    "print('Hard words for children are')\n",
    "print(', '.join(hard_word),end ='')\n",
    "print('.')"
   ]
  }
 ],
 "metadata": {
  "kernelspec": {
   "display_name": "Python 3",
   "language": "python",
   "name": "python3"
  },
  "language_info": {
   "codemirror_mode": {
    "name": "ipython",
    "version": 3
   },
   "file_extension": ".py",
   "mimetype": "text/x-python",
   "name": "python",
   "nbconvert_exporter": "python",
   "pygments_lexer": "ipython3",
   "version": "3.7.6"
  }
 },
 "nbformat": 4,
 "nbformat_minor": 4
}
