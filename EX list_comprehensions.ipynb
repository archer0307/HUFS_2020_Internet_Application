{
 "cells": [
  {
   "cell_type": "markdown",
   "metadata": {},
   "source": [
    "# Ex. List Comprehensions"
   ]
  },
  {
   "cell_type": "markdown",
   "metadata": {},
   "source": [
    "#### Q1.\t\n",
    "Write a program which will find all such numbers which are divisible by 7 but are not a multiple of 5, between 2000 and 3200 (both included). The numbers obtained should be printed in a comma-separated sequence on a single line.\n",
    "\n",
    "Hints: Consider use range(begin, end) method"
   ]
  },
  {
   "cell_type": "code",
   "execution_count": 67,
   "metadata": {
    "scrolled": true
   },
   "outputs": [
    {
     "name": "stdout",
     "output_type": "stream",
     "text": [
      "2002, 2009, 2016, 2023, 2037, 2044, 2051, 2058, 2072, 2079, 2086, 2093, 2107, 2114, 2121, 2128, 2142, 2149, 2156, 2163, 2177, 2184, 2191, 2198, 2212, 2219, 2226, 2233, 2247, 2254, 2261, 2268, 2282, 2289, 2296, 2303, 2317, 2324, 2331, 2338, 2352, 2359, 2366, 2373, 2387, 2394, 2401, 2408, 2422, 2429, 2436, 2443, 2457, 2464, 2471, 2478, 2492, 2499, 2506, 2513, 2527, 2534, 2541, 2548, 2562, 2569, 2576, 2583, 2597, 2604, 2611, 2618, 2632, 2639, 2646, 2653, 2667, 2674, 2681, 2688, 2702, 2709, 2716, 2723, 2737, 2744, 2751, 2758, 2772, 2779, 2786, 2793, 2807, 2814, 2821, 2828, 2842, 2849, 2856, 2863, 2877, 2884, 2891, 2898, 2912, 2919, 2926, 2933, 2947, 2954, 2961, 2968, 2982, 2989, 2996, 3003, 3017, 3024, 3031, 3038, 3052, 3059, 3066, 3073, 3087, 3094, 3101, 3108, 3122, 3129, 3136, 3143, 3157, 3164, 3171, 3178, 3192, 3199\n"
     ]
    }
   ],
   "source": [
    "def num(): return str([x for x in range(2000,3200) if x%7 == 0 and x%5 != 0])[1:-1]\n",
    "\n",
    "print(num())"
   ]
  },
  {
   "cell_type": "markdown",
   "metadata": {},
   "source": [
    "#### Q2.\t\n",
    "Write a program which accepts a sequence of comma-separated numbers from console and generate a list and a tuple which contains every number.\n",
    "Suppose the following input is supplied to the program:\n",
    "```\n",
    "34, 67, 55, 33, 12, 98\n",
    "```\n",
    "Then, the output should be:\n",
    "```\n",
    "['34', '67', '55', '33', '12', '98']\n",
    "('34', '67', '55', '33', '12', '98')\n",
    "``` \n",
    "Hints: In case of input data being supplied to the question, it should be assumed to be a console input. tuple() method can convert list to tuple\n"
   ]
  },
  {
   "cell_type": "code",
   "execution_count": 4,
   "metadata": {
    "scrolled": false
   },
   "outputs": [
    {
     "name": "stdout",
     "output_type": "stream",
     "text": [
      "Write your numbers : 34, 67, 55, 33, 12, 98\n",
      "('34', '67', '55', '33', '12', '98')\n"
     ]
    }
   ],
   "source": [
    "# 가끔 오래 걸릴 때가 있습니다.\n",
    "\n",
    "def make_tuple(): return tuple(input('Write your numbers : ').split(', '))\n",
    "\n",
    "print(make_tuple())"
   ]
  },
  {
   "cell_type": "markdown",
   "metadata": {},
   "source": [
    "#### Q3.\t\n",
    "Write a program which takes 2 digits, X,Y as input and generates a 2-dimensional array. The element value in the i-th row and j-th column of the array should be i*j. Note: i=0,1.., X-1; j=0,1,∼Y-1.\n",
    "\n",
    "Suppose the following inputs are given to the program:\n",
    "```\n",
    "3,5\n",
    "```\n",
    "Then, the output of the program should be:\n",
    "```\n",
    "[[0, 0, 0, 0, 0], [0, 1, 2, 3, 4], [0, 2, 4, 6, 8]]\n",
    "```\n",
    "Hints: Note: In case of input data being supplied to the question, it should be assumed to be a console input in a comma-separated form."
   ]
  },
  {
   "cell_type": "code",
   "execution_count": 5,
   "metadata": {
    "scrolled": true
   },
   "outputs": [
    {
     "name": "stdout",
     "output_type": "stream",
     "text": [
      "Write row and column : 3,5\n",
      "[[0, 0, 0, 0, 0], [0, 1, 2, 3, 4], [0, 2, 4, 6, 8]]\n"
     ]
    }
   ],
   "source": [
    "def two_dim_array():\n",
    "    row, col = input('Write row and column : ').split(',')\n",
    "    return [[x*y for x in range(int(row)) for y in range(int(col))][i:i+int(col)] for i in range(0,int(row)*int(col),int(col))]\n",
    "\n",
    "print(two_dim_array())"
   ]
  },
  {
   "cell_type": "markdown",
   "metadata": {},
   "source": [
    "#### Q4.\t\n",
    "Write a program that accepts a sentence and calculate the number of letters and digits.\n",
    "\n",
    "Suppose the following input is supplied to the program:\n",
    "```Python\n",
    "hello world! 123\n",
    "```\n",
    "\n",
    "Then, the output should be:\n",
    "```Python\n",
    "LETTERS 10\n",
    "DIGITS 3\n",
    "```\n",
    "Hints: In case of input data being supplied to the question, it should be assumed to be a console input.\n"
   ]
  },
  {
   "cell_type": "code",
   "execution_count": 6,
   "metadata": {},
   "outputs": [
    {
     "name": "stdout",
     "output_type": "stream",
     "text": [
      "Write any sentences : hello world! 123\n",
      "LETTERS 10\n",
      "DIGITS 3\n"
     ]
    }
   ],
   "source": [
    "def counting_LD():\n",
    "    letter, digit = 0, 0\n",
    "    for j in [i for i in input(\"Write any sentences : \") if i is not ' ']:\n",
    "        if j.isalpha() is True: letter += 1\n",
    "        elif j.isdigit() is True: digit += 1\n",
    "    return f'LETTERS {letter}\\nDIGITS {digit}'\n",
    "    \n",
    "print(counting_LD())"
   ]
  },
  {
   "cell_type": "markdown",
   "metadata": {},
   "source": [
    "#### Q5.\t\n",
    "Write a program which can filter even numbers in a list by using range() for loops and list.append(). \n",
    "\n",
    "The list is: \n",
    "```\n",
    "[1,2,3,4,5,6,7,8,9,10]\n",
    "```\n",
    "Hint: Use range() for loops.\n",
    "Use list.append() to add values into a list."
   ]
  },
  {
   "cell_type": "code",
   "execution_count": 7,
   "metadata": {
    "scrolled": true
   },
   "outputs": [
    {
     "name": "stdout",
     "output_type": "stream",
     "text": [
      "[0, 2, 4, 6, 8]\n"
     ]
    }
   ],
   "source": [
    "# the code that using range() and append()\n",
    "\n",
    "def filter_even(a):\n",
    "    answer = list()\n",
    "    for i in range(len(a)):\n",
    "        if i%2 == 0:\n",
    "            answer.append(i)\n",
    "    return answer\n",
    "\n",
    "print(filter_even([1,2,3,4,5,6,7,8,9,10]))"
   ]
  },
  {
   "cell_type": "markdown",
   "metadata": {},
   "source": [
    "#### Q6.\t\n",
    "Write a program which can filter even numbers in a list by using list comprehension. The list is: \n",
    "```\n",
    "[1,2,3,4,5,6,7,8,9,10]\n",
    "```\n",
    "Hint: Use list comprehension"
   ]
  },
  {
   "cell_type": "code",
   "execution_count": 8,
   "metadata": {
    "scrolled": true
   },
   "outputs": [
    {
     "name": "stdout",
     "output_type": "stream",
     "text": [
      "[0, 2, 4, 6, 8]\n"
     ]
    }
   ],
   "source": [
    "# the code that using list comprehension\n",
    "\n",
    "def filter_even_additional(a): return [i for i in range(len(a))if i%2 is 0]\n",
    "    \n",
    "print(filter_even_additional([1,2,3,4,5,6,7,8,9,10]))"
   ]
  },
  {
   "cell_type": "markdown",
   "metadata": {},
   "source": [
    "#### Q7.\t\n",
    "With two given lists `[1,3,6,78,35,55]` and `[12,24,35,24,88,120,155]`, write a program to make a list whose elements are intersection of the above given lists.\n",
    "\n",
    "Hints: Use `set()` and `&=` to do set intersection operation.\n"
   ]
  },
  {
   "cell_type": "code",
   "execution_count": 9,
   "metadata": {},
   "outputs": [
    {
     "name": "stdout",
     "output_type": "stream",
     "text": [
      "{35}\n"
     ]
    }
   ],
   "source": [
    "# 문제의 &= 에서 = 부분은 오타인가요....?\n",
    "\n",
    "def intersection(l1,l2): return set(l1)&set(l2)\n",
    "\n",
    "print(intersection([1,3,6,78,35,55],[12,24,35,24,88,120,155]))"
   ]
  },
  {
   "cell_type": "markdown",
   "metadata": {},
   "source": [
    "#### Q8.\t\n",
    "Write a program that accepts a sequence of whitespace separated words as input and prints the words after removing all duplicate words and sorting them alphanumerically.\n",
    "\n",
    "Suppose the following input is supplied to the program:\n",
    "```\n",
    "hello world and practice makes perfect and hello world again\n",
    "```\n",
    "\n",
    "Then, the output should be:\n",
    "```again and hello makes perfect practice world\n",
    "```\n",
    "\n",
    "Hints: In case of input data being supplied to the question, it should be assumed to be a console input. We use set container to remove duplicated data automatically and then use sorted() to sort the data."
   ]
  },
  {
   "cell_type": "code",
   "execution_count": 10,
   "metadata": {
    "scrolled": true
   },
   "outputs": [
    {
     "name": "stdout",
     "output_type": "stream",
     "text": [
      "Write your words : hello world and practice makes perfect and hello world again\n",
      "again and hello makes perfect practice world\n"
     ]
    }
   ],
   "source": [
    "def sorting_words(): return ' '.join(sorted(list(set(input('Write your words : ').split()))))\n",
    "\n",
    "print(sorting_words())"
   ]
  }
 ],
 "metadata": {
  "kernelspec": {
   "display_name": "Python 3",
   "language": "python",
   "name": "python3"
  },
  "language_info": {
   "codemirror_mode": {
    "name": "ipython",
    "version": 3
   },
   "file_extension": ".py",
   "mimetype": "text/x-python",
   "name": "python",
   "nbconvert_exporter": "python",
   "pygments_lexer": "ipython3",
   "version": "3.7.6"
  }
 },
 "nbformat": 4,
 "nbformat_minor": 4
}
