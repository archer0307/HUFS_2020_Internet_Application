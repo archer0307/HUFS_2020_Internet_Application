{
 "cells": [
  {
   "cell_type": "markdown",
   "metadata": {},
   "source": [
    "# Ex-3. Functions"
   ]
  },
  {
   "cell_type": "markdown",
   "metadata": {},
   "source": [
    "## 1.\tArgument-matching examples. \n",
    "First, define the following six functions (either interactively or in a module file that can be imported):"
   ]
  },
  {
   "cell_type": "code",
   "execution_count": 2,
   "metadata": {},
   "outputs": [],
   "source": [
    "def f1(a, b): print(a, b)           # Normal args \n",
    "def f2(a, *b): print(a, b)          # Positional var args\n",
    "def f3(a, **b): print(a, b)         # Keyword var args\n",
    "def f4(a, *b, **c): print(a, b, c)  # Mixed modes\n",
    "def f5(a, b=2, c=3): print(a, b, c) # Default values\n",
    "def f6(a, b=2, *c): print(a, b, c)  # Defaults and positional var args"
   ]
  },
  {
   "cell_type": "markdown",
   "metadata": {},
   "source": [
    "Now, test the following calls interactively.."
   ]
  },
  {
   "cell_type": "code",
   "execution_count": 3,
   "metadata": {},
   "outputs": [
    {
     "name": "stdout",
     "output_type": "stream",
     "text": [
      "1 2\n",
      "1 2\n"
     ]
    }
   ],
   "source": [
    "# case a)\n",
    "f1(1, 2) \n",
    "f1(b=2, a=1)"
   ]
  },
  {
   "cell_type": "code",
   "execution_count": 4,
   "metadata": {},
   "outputs": [
    {
     "name": "stdout",
     "output_type": "stream",
     "text": [
      "1 (2, 3)\n",
      "1 {'x': 2, 'y': 3}\n",
      "1 (2, 3) {'x': 2, 'y': 3}\n"
     ]
    }
   ],
   "source": [
    "# case b)\n",
    "f2(1, 2, 3) \n",
    "f3(1, x=2, y=3) \n",
    "f4(1, 2, 3, x=2, y=3)"
   ]
  },
  {
   "cell_type": "code",
   "execution_count": 5,
   "metadata": {},
   "outputs": [
    {
     "name": "stdout",
     "output_type": "stream",
     "text": [
      "1 2 3\n",
      "1 4 3\n"
     ]
    }
   ],
   "source": [
    "# case c)\n",
    "f5(1) \n",
    "f5(1, 4)"
   ]
  },
  {
   "cell_type": "code",
   "execution_count": 6,
   "metadata": {},
   "outputs": [
    {
     "name": "stdout",
     "output_type": "stream",
     "text": [
      "1 2 ()\n",
      "1 3 (4,)\n"
     ]
    }
   ],
   "source": [
    "# case d)\n",
    "f6(1) \n",
    "f6(1, 3, 4)"
   ]
  },
  {
   "cell_type": "markdown",
   "metadata": {},
   "source": [
    "Try to explain each result."
   ]
  },
  {
   "cell_type": "markdown",
   "metadata": {},
   "source": [
    "Your answers here.\n",
    "\n",
    "Case a) In first line, it called the function f1 with argument 1 and 2, so print function called sucessfully. In second line, it assigned 2 and 1 in to variable b and a, and after it works, the function f1 called. So the same result came with first line.\n",
    "\n",
    "Case b) In function f2, asterisk before argument b means multiple variable arguments. It called non-keyworded arguments. So that we can use f2 functions with 3 arguments in first line. In function f3, double asterisk means kargs(keyworded arguments) and it handles arguments like dictionary. You can see the result in line 2, it has resulted with dict. Function f4 is mixed function with non-keyworded arguments and keyworded arguments. Result in line 3 has also similar phrases with line 2.\n",
    "\n",
    "Case c) Function f5 indicates default parameter value. In first line, there is only one parameter to call function. So it has a result like 1 2 3. But f5 has default value b=2 and c=3, so there is another parameter with those places like f5(1,4), it would have to take 1 4 3.\n",
    "\n",
    "Case d) Function f6 is mixed function with default parameter value and non-keyworded arguments. It's result caused like f2 and f5. Second parameter b=2 works by default parameter value , third parameter *c non-keyworded arguments which explained at case b).\n"
   ]
  },
  {
   "cell_type": "markdown",
   "metadata": {},
   "source": [
    "## 2.\tArguments. \n",
    "Write a function called ```adder``` in a Python module file. The function should accept two arguments and return the sum (or concatenation) of the two. Then, call the ```adder``` function with a variety of object types (two strings, two lists, two floating points)."
   ]
  },
  {
   "cell_type": "code",
   "execution_count": 12,
   "metadata": {},
   "outputs": [
    {
     "name": "stdout",
     "output_type": "stream",
     "text": [
      "pineapple\n",
      "[1, 2, 3, 4, 5, 6, 7, 8]\n",
      "7.1\n"
     ]
    }
   ],
   "source": [
    "def adder(arg1, arg2):\n",
    "        return arg1+arg2\n",
    "    \n",
    "print(adder('pine','apple'))\n",
    "print(adder([1,2,3,4],[5,6,7,8]))\n",
    "print(adder(1.5,5.6))"
   ]
  },
  {
   "cell_type": "markdown",
   "metadata": {},
   "source": [
    "## 3.\tVariable arguments. \n",
    "Generalize the adder function you wrote in the above to compute the sum of an arbitrary number of arguments, and change the calls to pass more or fewer than two arguments. \n",
    "\n",
    "Hints: a slice such as ```S[:0]``` returns an empty sequence of the same type as S, and the type builtin function can test types "
   ]
  },
  {
   "cell_type": "code",
   "execution_count": 14,
   "metadata": {},
   "outputs": [
    {
     "name": "stdout",
     "output_type": "stream",
     "text": [
      "16\n"
     ]
    }
   ],
   "source": [
    "def adder(arg1,*arg2):\n",
    "    for arg in arg2:\n",
    "        arg1 += arg\n",
    "    return arg1\n",
    "\n",
    "print(adder(1,3,5,7))"
   ]
  },
  {
   "cell_type": "markdown",
   "metadata": {},
   "source": [
    "What happens if you pass in arguments of different types? "
   ]
  },
  {
   "cell_type": "code",
   "execution_count": 16,
   "metadata": {},
   "outputs": [
    {
     "name": "stdout",
     "output_type": "stream",
     "text": [
      "happybirthdayHUFS!\n"
     ]
    }
   ],
   "source": [
    "print(adder('happy','birthday','HUFS!'))"
   ]
  },
  {
   "cell_type": "markdown",
   "metadata": {},
   "source": [
    "What about passing in dictionaries?"
   ]
  },
  {
   "cell_type": "code",
   "execution_count": 17,
   "metadata": {},
   "outputs": [
    {
     "name": "stdout",
     "output_type": "stream",
     "text": [
      "[1, 2, 3, 4, 5, 6, 7, 8, 9, 10, 11, 12]\n"
     ]
    }
   ],
   "source": [
    "print(adder([1,2,3,4],[5,6,7,8],[9,10,11,12]))"
   ]
  },
  {
   "cell_type": "markdown",
   "metadata": {},
   "source": [
    "## 4.\tDictionary. \n",
    "Write a function called ```add_dict(dict1, dict2)``` that computes the union of two dictionaries. It should return a new dictionary containing all the items in both its arguments (which are assumed to be dictionaries). If the same key appears in both arguments, feel free to pick a value from either. "
   ]
  },
  {
   "cell_type": "code",
   "execution_count": 8,
   "metadata": {
    "scrolled": true
   },
   "outputs": [
    {
     "name": "stdout",
     "output_type": "stream",
     "text": [
      "{'apple': 1000, 'orange': 1000, 'banana': 3000, 'pear': 1500, 'pineapple': 5000}\n"
     ]
    }
   ],
   "source": [
    "def add_dict(dict1, dict2):\n",
    "    dict1.update(dict2)\n",
    "    return dict1\n",
    "\n",
    "print(add_dict({'apple':1000,'orange':2000,'banana':3000},{'orange':1000,'pear':1500,'pineapple':5000}))\n",
    "#orange printed smaller prices because of the union of dict"
   ]
  },
  {
   "cell_type": "markdown",
   "metadata": {},
   "source": [
    "What happens if you pass lists instead of dictionaries? "
   ]
  },
  {
   "cell_type": "code",
   "execution_count": 11,
   "metadata": {},
   "outputs": [
    {
     "name": "stdout",
     "output_type": "stream",
     "text": [
      "['apple', 'orange', 'banana', 'orange', 'pear', 'pineapple']\n"
     ]
    }
   ],
   "source": [
    "def add_list(list1, list2):\n",
    "    list1 += list2\n",
    "    return list1\n",
    "\n",
    "print(add_list(['apple','orange','banana'],['orange','pear','pineapple']))"
   ]
  },
  {
   "cell_type": "markdown",
   "metadata": {},
   "source": [
    "How could you generalize(rewrite) your function to handle this case, too? (Hint: see the ```type``` built-in function used earlier.)"
   ]
  },
  {
   "cell_type": "markdown",
   "metadata": {},
   "source": []
  },
  {
   "cell_type": "markdown",
   "metadata": {},
   "source": [
    "## 5.\tComputing factorials. \n",
    "N!, is computed as N*(N-1)*(N-2)*...1. For instance, 6! is 6*5*4*3*2*1, or 720. Write a recursive function ```fact1(N)``` and an iterative function ```fact2(N)```. (Note: 0! == 0)"
   ]
  },
  {
   "cell_type": "code",
   "execution_count": 10,
   "metadata": {
    "scrolled": true
   },
   "outputs": [
    {
     "name": "stdout",
     "output_type": "stream",
     "text": [
      "720\n",
      "720\n"
     ]
    }
   ],
   "source": [
    "def fact1(N):\n",
    "    if N == 1:\n",
    "        return 1\n",
    "    else:\n",
    "        return N*fact1(N-1)\n",
    "\n",
    "def fact2(N):\n",
    "    temp = 1\n",
    "    for i in range(1,N+1):\n",
    "        temp *= i\n",
    "    return temp\n",
    "\n",
    "print(fact1(6))\n",
    "print(fact2(6))"
   ]
  }
 ],
 "metadata": {
  "kernelspec": {
   "display_name": "Python 3",
   "language": "python",
   "name": "python3"
  },
  "language_info": {
   "codemirror_mode": {
    "name": "ipython",
    "version": 3
   },
   "file_extension": ".py",
   "mimetype": "text/x-python",
   "name": "python",
   "nbconvert_exporter": "python",
   "pygments_lexer": "ipython3",
   "version": "3.7.6"
  }
 },
 "nbformat": 4,
 "nbformat_minor": 2
}
